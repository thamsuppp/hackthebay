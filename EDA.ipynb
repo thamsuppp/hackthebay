{
 "cells": [
  {
   "cell_type": "code",
   "execution_count": 1,
   "metadata": {
    "ExecuteTime": {
     "end_time": "2020-08-06T14:27:20.176617Z",
     "start_time": "2020-08-06T14:27:19.517225Z"
    }
   },
   "outputs": [],
   "source": [
    "import pandas as pd\n",
    "import numpy as np"
   ]
  },
  {
   "cell_type": "code",
   "execution_count": 2,
   "metadata": {
    "ExecuteTime": {
     "end_time": "2020-08-06T14:28:40.193506Z",
     "start_time": "2020-08-06T14:27:37.757764Z"
    }
   },
   "outputs": [
    {
     "name": "stderr",
     "output_type": "stream",
     "text": [
      "C:\\Users\\isaac\\Anaconda3\\lib\\site-packages\\IPython\\core\\interactiveshell.py:3063: DtypeWarning: Columns (2,3,4,5,6,9,11,13,15,17,21,22,23,24,27,28,31,32,33,34,35,36,37,40,41,42,43,44,45,46,47,48,49,50,55,56,57,58,59,60,61,62,63,64,65,66) have mixed types.Specify dtype option on import or set low_memory=False.\n",
      "  interactivity=interactivity, compiler=compiler, result=result)\n"
     ]
    }
   ],
   "source": [
    "data = pd.read_csv('Water_FINAL.csv')"
   ]
  },
  {
   "cell_type": "code",
   "execution_count": 14,
   "metadata": {
    "ExecuteTime": {
     "end_time": "2020-08-06T14:33:05.588192Z",
     "start_time": "2020-08-06T14:33:05.365775Z"
    }
   },
   "outputs": [
    {
     "data": {
      "text/plain": [
       "array([nan, 'Normal', 'Dry (Negligible)', 'High', 'Low', 'high', 'normal',\n",
       "       'low', 'Negligible'], dtype=object)"
      ]
     },
     "execution_count": 14,
     "metadata": {},
     "output_type": "execute_result"
    }
   ],
   "source": [
    "data['Stream Flow'].unique()"
   ]
  },
  {
   "cell_type": "code",
   "execution_count": 28,
   "metadata": {
    "ExecuteTime": {
     "end_time": "2020-08-06T14:42:22.578265Z",
     "start_time": "2020-08-06T14:41:45.374267Z"
    }
   },
   "outputs": [],
   "source": [
    "benthic = pd.read_excel('CMC_Benthic_Data.xlsx')"
   ]
  },
  {
   "cell_type": "code",
   "execution_count": 31,
   "metadata": {
    "ExecuteTime": {
     "end_time": "2020-08-06T14:42:32.787353Z",
     "start_time": "2020-08-06T14:42:32.780399Z"
    }
   },
   "outputs": [
    {
     "data": {
      "text/plain": [
       "Index(['EVENT_ID', 'SAMPLE_NUMBER', 'STATION_ID', 'ICPRB_BIOREGION_ID',\n",
       "       'STRAHLER_STREAM_ORDER', 'G_Method', 'SAMPLE_DATE', 'MONTH', 'Latitude',\n",
       "       'Longitude', 'FINAL_ID', 'REPORTING_VALUE', 'TSN_FINAL', 'TAXON_LEVEL',\n",
       "       'PHYLUM', 'SUBPHYLUM', 'CLASS', 'SUBCLASS', 'ORDER', 'SUBORDER',\n",
       "       'FAMILY', 'SUBFAMILY', 'TRIBE', 'GENUS', 'SPECIES', 'ASPT', 'BIBI_TV',\n",
       "       'BIBI_FFG', 'BIBI_HABIT'],\n",
       "      dtype='object')"
      ]
     },
     "execution_count": 31,
     "metadata": {},
     "output_type": "execute_result"
    }
   ],
   "source": [
    "benthic.columns"
   ]
  },
  {
   "cell_type": "code",
   "execution_count": 38,
   "metadata": {
    "ExecuteTime": {
     "end_time": "2020-08-06T14:43:49.522201Z",
     "start_time": "2020-08-06T14:43:49.512255Z"
    }
   },
   "outputs": [
    {
     "data": {
      "text/plain": [
       "array(['PLATYHELMINTHES', 'ANNELIDA', 'MOLLUSCA', 'ARTHROPODA',\n",
       "       'UNIDENTIFIED', 'INSECTA', 'MALACOSTRACA', 'GASTROPODA', 0,\n",
       "       'BIVALVIA', 'OLIGOCHAETA', 'ENTOGNATHA', nan, 'TREPAXONEMATA',\n",
       "       'HIRUDINEA', 'HYDROZOA', 'ENOPLA'], dtype=object)"
      ]
     },
     "execution_count": 38,
     "metadata": {},
     "output_type": "execute_result"
    }
   ],
   "source": [
    "benthic['PHYLUM'].unique()"
   ]
  },
  {
   "cell_type": "code",
   "execution_count": 33,
   "metadata": {
    "ExecuteTime": {
     "end_time": "2020-08-06T14:42:41.130317Z",
     "start_time": "2020-08-06T14:42:40.926859Z"
    }
   },
   "outputs": [
    {
     "data": {
      "text/plain": [
       "EVENT_ID                      0\n",
       "SAMPLE_NUMBER                 0\n",
       "STATION_ID                    0\n",
       "ICPRB_BIOREGION_ID            0\n",
       "STRAHLER_STREAM_ORDER    122582\n",
       "G_Method                      0\n",
       "SAMPLE_DATE                   0\n",
       "MONTH                         0\n",
       "Latitude                      0\n",
       "Longitude                     0\n",
       "FINAL_ID                     63\n",
       "REPORTING_VALUE              63\n",
       "TSN_FINAL                    63\n",
       "TAXON_LEVEL                  63\n",
       "PHYLUM                       63\n",
       "SUBPHYLUM                    63\n",
       "CLASS                        63\n",
       "SUBCLASS                     63\n",
       "ORDER                        63\n",
       "SUBORDER                     63\n",
       "FAMILY                       63\n",
       "SUBFAMILY                    63\n",
       "TRIBE                        63\n",
       "GENUS                        63\n",
       "SPECIES                      63\n",
       "ASPT                         63\n",
       "BIBI_TV                      63\n",
       "BIBI_FFG                  81229\n",
       "BIBI_HABIT                81229\n",
       "dtype: int64"
      ]
     },
     "execution_count": 33,
     "metadata": {},
     "output_type": "execute_result"
    }
   ],
   "source": [
    "benthic.apply(lambda x: x.isnull().sum())"
   ]
  },
  {
   "cell_type": "code",
   "execution_count": 18,
   "metadata": {
    "ExecuteTime": {
     "end_time": "2020-08-06T14:37:56.375337Z",
     "start_time": "2020-08-06T14:37:56.364395Z"
    }
   },
   "outputs": [
    {
     "data": {
      "text/plain": [
       "Index(['Unnamed: 0', 'Unnamed: 0.1', 'Unnamed: 0.1.1', 'Active Construction',\n",
       "       'Agency', 'Algae Color', 'Algae Located', 'Aquatic Veg/Decaying Matter',\n",
       "       'Area 1 Sampled', 'Area 2 Sampled', 'Area 3 Sampled', 'Area 4 Sampled',\n",
       "       'Barriers To Fish Movement', 'Benthic Classification Code',\n",
       "       'Benthic Classification Name', 'BioMethod', 'Bottom Type',\n",
       "       'Channel Width', 'Collection Time (Net 1)', 'Collection Time (Net 2)',\n",
       "       'Collection Time (Net 3)', 'Collection Time (Net 4)', 'Comments',\n",
       "       'Count', 'CountyCity', 'Cropland', 'Database', 'Date', 'DateTime',\n",
       "       'Define Other Bank Composition', 'Define Other Land Use',\n",
       "       'Define Other Organism', 'Describe the Amount and Type of Litter',\n",
       "       'Discharge Pipes', 'EcoRegionLevel3', 'EcoRegionLevel3Description',\n",
       "       'EventId', 'FIPS', 'Fields', 'Fish Water Quality Indicators', 'Forest',\n",
       "       'GMethod', 'GroupName', 'HUC12', 'HUC12Description', 'HUC8',\n",
       "       'HUC8Description', 'Housing Development',\n",
       "       'Indicate Current and Potential Threats', 'Latitude'],\n",
       "      dtype='object')"
      ]
     },
     "execution_count": 18,
     "metadata": {},
     "output_type": "execute_result"
    }
   ],
   "source": [
    "benthic.columns[0:50]"
   ]
  },
  {
   "cell_type": "code",
   "execution_count": 22,
   "metadata": {
    "ExecuteTime": {
     "end_time": "2020-08-06T14:39:07.338494Z",
     "start_time": "2020-08-06T14:39:07.330515Z"
    }
   },
   "outputs": [
    {
     "data": {
      "text/plain": [
       "array([nan])"
      ]
     },
     "execution_count": 22,
     "metadata": {},
     "output_type": "execute_result"
    }
   ],
   "source": [
    "benthic['Comments'].unique()"
   ]
  },
  {
   "cell_type": "markdown",
   "metadata": {},
   "source": [
    "## Reading HUC12 Data"
   ]
  },
  {
   "cell_type": "code",
   "execution_count": 96,
   "metadata": {
    "ExecuteTime": {
     "end_time": "2020-08-11T22:48:08.934061Z",
     "start_time": "2020-08-11T22:48:08.909130Z"
    }
   },
   "outputs": [],
   "source": [
    "import geopandas as gpd\n",
    "import pandas as pd\n",
    "from shapely.geometry import Point, Polygon, LineString\n",
    "import fiona\n",
    "from datetime import datetime\n",
    "#import geoplot as gplt\n",
    "#import geoplot.crs as gcrs"
   ]
  },
  {
   "cell_type": "code",
   "execution_count": 2,
   "metadata": {
    "ExecuteTime": {
     "end_time": "2020-08-10T15:01:39.441681Z",
     "start_time": "2020-08-10T14:59:52.856497Z"
    }
   },
   "outputs": [],
   "source": [
    "layers = fiona.listlayers('wbdhu12_a_us_september2019.gdb')\n",
    "# Read into a geodataframe\n",
    "huc12 = gpd.read_file('wbdhu12_a_us_september2019.gdb', layer = 'WBDHU12')"
   ]
  },
  {
   "cell_type": "code",
   "execution_count": 3,
   "metadata": {
    "ExecuteTime": {
     "end_time": "2020-08-10T15:01:39.750814Z",
     "start_time": "2020-08-10T15:01:39.727877Z"
    }
   },
   "outputs": [],
   "source": [
    "# Convert to lat long\n",
    "huc12.crs = {'init': 'epsg:2283'}"
   ]
  },
  {
   "cell_type": "code",
   "execution_count": 4,
   "metadata": {
    "ExecuteTime": {
     "end_time": "2020-08-10T15:01:40.221709Z",
     "start_time": "2020-08-10T15:01:40.028075Z"
    }
   },
   "outputs": [],
   "source": [
    "# Filter for the rows that contain the CB states\n",
    "bay_states = ['NY', 'PA', 'VA', 'MD', 'WV', 'DE', 'DC']\n",
    "keep = []\n",
    "for i in bay_states:\n",
    "    for x in huc12['STATES'].unique():\n",
    "        if i in x:\n",
    "            keep.append(x)\n",
    "        else:\n",
    "            pass\n",
    "keephuc = huc12[huc12['STATES'].isin(keep)]"
   ]
  },
  {
   "cell_type": "markdown",
   "metadata": {},
   "source": [
    "### Read in County Boundaries"
   ]
  },
  {
   "cell_type": "code",
   "execution_count": 5,
   "metadata": {
    "ExecuteTime": {
     "end_time": "2020-08-10T15:01:44.038476Z",
     "start_time": "2020-08-10T15:01:40.908438Z"
    }
   },
   "outputs": [],
   "source": [
    "counties = gpd.read_file('tl_2017_us_county.shp')"
   ]
  },
  {
   "cell_type": "code",
   "execution_count": 6,
   "metadata": {
    "ExecuteTime": {
     "end_time": "2020-08-10T15:01:44.885213Z",
     "start_time": "2020-08-10T15:01:44.865266Z"
    }
   },
   "outputs": [],
   "source": [
    "fips = pd.read_csv('us-state-ansi-fips.csv')"
   ]
  },
  {
   "cell_type": "code",
   "execution_count": 7,
   "metadata": {
    "ExecuteTime": {
     "end_time": "2020-08-10T15:01:45.776079Z",
     "start_time": "2020-08-10T15:01:45.688063Z"
    }
   },
   "outputs": [],
   "source": [
    "# get the state for each county from the FIPs codes\n",
    "fips['fips'] = ['0' + str(i) if len(str(i)) == 1 else str(i) for i in fips[' st']]\n",
    "fipsdict = dict(zip(fips['fips'], fips[' stusps'].map(lambda x: x[1:])))\n",
    "counties['state'] = counties['STATEFP'].map(fipsdict)\n",
    "counties['fullfips'] = counties['STATEFP'] + counties['COUNTYFP']\n",
    "\n",
    "keep_counties = counties[counties['state'].isin(bay_states)]"
   ]
  },
  {
   "cell_type": "markdown",
   "metadata": {},
   "source": [
    "### Read in Water and Benthic Data"
   ]
  },
  {
   "cell_type": "code",
   "execution_count": 8,
   "metadata": {
    "ExecuteTime": {
     "end_time": "2020-08-10T15:03:08.546731Z",
     "start_time": "2020-08-10T15:01:46.840563Z"
    }
   },
   "outputs": [
    {
     "name": "stderr",
     "output_type": "stream",
     "text": [
      "C:\\Users\\isaac\\Anaconda3\\lib\\site-packages\\IPython\\core\\interactiveshell.py:3146: DtypeWarning: Columns (2,3,4,5,6,9,11,13,15,17,21,22,23,24,27,28,31,32,33,34,35,36,37,40,41,42,43,44,45,46,47,48,49,50,55,56,57,58,59,60,61,62,63,64,65,66) have mixed types.Specify dtype option on import or set low_memory=False.\n",
      "  interactivity=interactivity, compiler=compiler, result=result)\n"
     ]
    }
   ],
   "source": [
    "water = pd.read_csv('Water_FINAL.csv')\n",
    "benthic = pd.read_csv('CBP_Benthic.csv')"
   ]
  },
  {
   "cell_type": "code",
   "execution_count": 9,
   "metadata": {
    "ExecuteTime": {
     "end_time": "2020-08-10T15:03:52.405149Z",
     "start_time": "2020-08-10T15:03:14.193216Z"
    }
   },
   "outputs": [],
   "source": [
    "# Getting the geospatial points\n",
    "water['Point'] = [Point(x, y) for x, y in zip(water['Longitude'], water['Latitude'])]\n",
    "benthic['Point'] = [Point(x, y) for x, y in zip(benthic['Longitude'], benthic['Latitude'])]"
   ]
  },
  {
   "cell_type": "code",
   "execution_count": 10,
   "metadata": {
    "ExecuteTime": {
     "end_time": "2020-08-10T15:03:57.789443Z",
     "start_time": "2020-08-10T15:03:57.152123Z"
    }
   },
   "outputs": [],
   "source": [
    "# Get unique points\n",
    "water_collections = water[['Longitude', 'Latitude']].drop_duplicates()\n",
    "benthic_collections = benthic[['Longitude', 'Latitude']].drop_duplicates()\n",
    "\n",
    "allpoints = pd.concat([water_collections, benthic_collections], axis = 0, sort = True)\n",
    "allpoints.drop_duplicates(inplace = True)\n",
    "allpoints['Point'] = [Point(x, y) for x, y in zip(allpoints['Longitude'], allpoints['Latitude'])]"
   ]
  },
  {
   "cell_type": "code",
   "execution_count": 11,
   "metadata": {
    "ExecuteTime": {
     "end_time": "2020-08-10T15:07:32.061346Z",
     "start_time": "2020-08-10T15:04:00.935036Z"
    }
   },
   "outputs": [],
   "source": [
    "# Getting the HUC12 codes for the data\n",
    "\n",
    "hucs = []\n",
    "names = []\n",
    "\n",
    "for i in allpoints['Point']:\n",
    "    huc = \"\"\n",
    "    name = \"\"\n",
    "    for x, y, z in zip(keephuc['NAME'], keephuc['HUC12'], keephuc['geometry']):\n",
    "        if z.contains(i) == True:\n",
    "            name = x\n",
    "            huc = y\n",
    "            break\n",
    "        else:\n",
    "            pass\n",
    "    \n",
    "    hucs.append(huc)\n",
    "    names.append(name)"
   ]
  },
  {
   "cell_type": "code",
   "execution_count": 12,
   "metadata": {
    "ExecuteTime": {
     "end_time": "2020-08-10T15:07:34.955267Z",
     "start_time": "2020-08-10T15:07:34.925309Z"
    }
   },
   "outputs": [],
   "source": [
    "allpoints['HUC12'] = hucs\n",
    "allpoints['HUCNAME'] = names"
   ]
  },
  {
   "cell_type": "code",
   "execution_count": 13,
   "metadata": {
    "ExecuteTime": {
     "end_time": "2020-08-10T15:07:59.808762Z",
     "start_time": "2020-08-10T15:07:37.913615Z"
    }
   },
   "outputs": [],
   "source": [
    "# Get the FIPS codes for each point\n",
    "fips = []\n",
    "states = []\n",
    "counties = []\n",
    "for i in allpoints['Point']:\n",
    "    \n",
    "    fip = \"\"\n",
    "    state = \"\"\n",
    "    county = \"\"\n",
    "    for w, x, y, z in zip(keep_counties['fullfips'], keep_counties['state'], keep_counties['NAMELSAD'], keep_counties['geometry']):\n",
    "            \n",
    "        if z.contains(i) == True:\n",
    "            fip = w\n",
    "            state = x\n",
    "            county = y\n",
    "            break\n",
    "        else:\n",
    "            pass\n",
    "            \n",
    "    fips.append(fip)\n",
    "    states.append(state)\n",
    "    counties.append(county)\n",
    "    \n",
    "allpoints['FIPS'] = fips\n",
    "allpoints['STATE'] = states\n",
    "allpoints['COUNTY'] = counties"
   ]
  },
  {
   "cell_type": "code",
   "execution_count": 14,
   "metadata": {
    "ExecuteTime": {
     "end_time": "2020-08-10T15:08:02.742436Z",
     "start_time": "2020-08-10T15:08:02.700832Z"
    }
   },
   "outputs": [],
   "source": [
    "allpoints = allpoints.dropna()"
   ]
  },
  {
   "cell_type": "code",
   "execution_count": 82,
   "metadata": {
    "ExecuteTime": {
     "end_time": "2020-08-10T16:21:25.821311Z",
     "start_time": "2020-08-10T16:21:25.769934Z"
    }
   },
   "outputs": [
    {
     "data": {
      "text/html": [
       "<div>\n",
       "<style scoped>\n",
       "    .dataframe tbody tr th:only-of-type {\n",
       "        vertical-align: middle;\n",
       "    }\n",
       "\n",
       "    .dataframe tbody tr th {\n",
       "        vertical-align: top;\n",
       "    }\n",
       "\n",
       "    .dataframe thead th {\n",
       "        text-align: right;\n",
       "    }\n",
       "</style>\n",
       "<table border=\"1\" class=\"dataframe\">\n",
       "  <thead>\n",
       "    <tr style=\"text-align: right;\">\n",
       "      <th></th>\n",
       "      <th>Latitude</th>\n",
       "      <th>Longitude</th>\n",
       "      <th>Point</th>\n",
       "      <th>HUC12</th>\n",
       "      <th>HUCNAME</th>\n",
       "      <th>FIPS</th>\n",
       "      <th>STATE</th>\n",
       "      <th>COUNTY</th>\n",
       "    </tr>\n",
       "  </thead>\n",
       "  <tbody>\n",
       "    <tr>\n",
       "      <th>1492798</th>\n",
       "      <td>39.16775</td>\n",
       "      <td>-76.85125</td>\n",
       "      <td>POINT (-76.85124999999999 39.16775)</td>\n",
       "      <td>020600060202</td>\n",
       "      <td>Dorsey Run-Little Patuxent River</td>\n",
       "      <td>24027</td>\n",
       "      <td>MD</td>\n",
       "      <td>Howard County</td>\n",
       "    </tr>\n",
       "    <tr>\n",
       "      <th>4936</th>\n",
       "      <td>39.12900</td>\n",
       "      <td>-76.82860</td>\n",
       "      <td>POINT (-76.82859999999999 39.129)</td>\n",
       "      <td>020600060202</td>\n",
       "      <td>Dorsey Run-Little Patuxent River</td>\n",
       "      <td>24027</td>\n",
       "      <td>MD</td>\n",
       "      <td>Howard County</td>\n",
       "    </tr>\n",
       "    <tr>\n",
       "      <th>5486</th>\n",
       "      <td>39.23770</td>\n",
       "      <td>-76.80790</td>\n",
       "      <td>POINT (-76.8079 39.2377)</td>\n",
       "      <td>020600060202</td>\n",
       "      <td>Dorsey Run-Little Patuxent River</td>\n",
       "      <td>24027</td>\n",
       "      <td>MD</td>\n",
       "      <td>Howard County</td>\n",
       "    </tr>\n",
       "    <tr>\n",
       "      <th>5493</th>\n",
       "      <td>39.15690</td>\n",
       "      <td>-76.91330</td>\n",
       "      <td>POINT (-76.91330000000001 39.1569)</td>\n",
       "      <td>020600060202</td>\n",
       "      <td>Dorsey Run-Little Patuxent River</td>\n",
       "      <td>24027</td>\n",
       "      <td>MD</td>\n",
       "      <td>Howard County</td>\n",
       "    </tr>\n",
       "    <tr>\n",
       "      <th>5500</th>\n",
       "      <td>39.14780</td>\n",
       "      <td>-76.88360</td>\n",
       "      <td>POINT (-76.8836 39.1478)</td>\n",
       "      <td>020600060202</td>\n",
       "      <td>Dorsey Run-Little Patuxent River</td>\n",
       "      <td>24027</td>\n",
       "      <td>MD</td>\n",
       "      <td>Howard County</td>\n",
       "    </tr>\n",
       "    <tr>\n",
       "      <th>...</th>\n",
       "      <td>...</td>\n",
       "      <td>...</td>\n",
       "      <td>...</td>\n",
       "      <td>...</td>\n",
       "      <td>...</td>\n",
       "      <td>...</td>\n",
       "      <td>...</td>\n",
       "      <td>...</td>\n",
       "    </tr>\n",
       "    <tr>\n",
       "      <th>107837</th>\n",
       "      <td>39.20115</td>\n",
       "      <td>-76.87915</td>\n",
       "      <td>POINT (-76.87915 39.20115)</td>\n",
       "      <td>020600060202</td>\n",
       "      <td>Dorsey Run-Little Patuxent River</td>\n",
       "      <td>24027</td>\n",
       "      <td>MD</td>\n",
       "      <td>Howard County</td>\n",
       "    </tr>\n",
       "    <tr>\n",
       "      <th>107845</th>\n",
       "      <td>39.20857</td>\n",
       "      <td>-76.86419</td>\n",
       "      <td>POINT (-76.86419000000002 39.20857)</td>\n",
       "      <td>020600060202</td>\n",
       "      <td>Dorsey Run-Little Patuxent River</td>\n",
       "      <td>24027</td>\n",
       "      <td>MD</td>\n",
       "      <td>Howard County</td>\n",
       "    </tr>\n",
       "    <tr>\n",
       "      <th>110993</th>\n",
       "      <td>39.24070</td>\n",
       "      <td>-76.85011</td>\n",
       "      <td>POINT (-76.85011 39.2407)</td>\n",
       "      <td>020600060202</td>\n",
       "      <td>Dorsey Run-Little Patuxent River</td>\n",
       "      <td>24027</td>\n",
       "      <td>MD</td>\n",
       "      <td>Howard County</td>\n",
       "    </tr>\n",
       "    <tr>\n",
       "      <th>112946</th>\n",
       "      <td>39.21833</td>\n",
       "      <td>-76.81882</td>\n",
       "      <td>POINT (-76.81882 39.21833)</td>\n",
       "      <td>020600060202</td>\n",
       "      <td>Dorsey Run-Little Patuxent River</td>\n",
       "      <td>24027</td>\n",
       "      <td>MD</td>\n",
       "      <td>Howard County</td>\n",
       "    </tr>\n",
       "    <tr>\n",
       "      <th>120283</th>\n",
       "      <td>39.21921</td>\n",
       "      <td>-76.85570</td>\n",
       "      <td>POINT (-76.8557 39.21921)</td>\n",
       "      <td>020600060202</td>\n",
       "      <td>Dorsey Run-Little Patuxent River</td>\n",
       "      <td>24027</td>\n",
       "      <td>MD</td>\n",
       "      <td>Howard County</td>\n",
       "    </tr>\n",
       "  </tbody>\n",
       "</table>\n",
       "<p>129 rows × 8 columns</p>\n",
       "</div>"
      ],
      "text/plain": [
       "         Latitude  Longitude                                Point  \\\n",
       "1492798  39.16775  -76.85125  POINT (-76.85124999999999 39.16775)   \n",
       "4936     39.12900  -76.82860    POINT (-76.82859999999999 39.129)   \n",
       "5486     39.23770  -76.80790             POINT (-76.8079 39.2377)   \n",
       "5493     39.15690  -76.91330   POINT (-76.91330000000001 39.1569)   \n",
       "5500     39.14780  -76.88360             POINT (-76.8836 39.1478)   \n",
       "...           ...        ...                                  ...   \n",
       "107837   39.20115  -76.87915           POINT (-76.87915 39.20115)   \n",
       "107845   39.20857  -76.86419  POINT (-76.86419000000002 39.20857)   \n",
       "110993   39.24070  -76.85011            POINT (-76.85011 39.2407)   \n",
       "112946   39.21833  -76.81882           POINT (-76.81882 39.21833)   \n",
       "120283   39.21921  -76.85570            POINT (-76.8557 39.21921)   \n",
       "\n",
       "                HUC12                           HUCNAME   FIPS STATE  \\\n",
       "1492798  020600060202  Dorsey Run-Little Patuxent River  24027    MD   \n",
       "4936     020600060202  Dorsey Run-Little Patuxent River  24027    MD   \n",
       "5486     020600060202  Dorsey Run-Little Patuxent River  24027    MD   \n",
       "5493     020600060202  Dorsey Run-Little Patuxent River  24027    MD   \n",
       "5500     020600060202  Dorsey Run-Little Patuxent River  24027    MD   \n",
       "...               ...                               ...    ...   ...   \n",
       "107837   020600060202  Dorsey Run-Little Patuxent River  24027    MD   \n",
       "107845   020600060202  Dorsey Run-Little Patuxent River  24027    MD   \n",
       "110993   020600060202  Dorsey Run-Little Patuxent River  24027    MD   \n",
       "112946   020600060202  Dorsey Run-Little Patuxent River  24027    MD   \n",
       "120283   020600060202  Dorsey Run-Little Patuxent River  24027    MD   \n",
       "\n",
       "                COUNTY  \n",
       "1492798  Howard County  \n",
       "4936     Howard County  \n",
       "5486     Howard County  \n",
       "5493     Howard County  \n",
       "5500     Howard County  \n",
       "...                ...  \n",
       "107837   Howard County  \n",
       "107845   Howard County  \n",
       "110993   Howard County  \n",
       "112946   Howard County  \n",
       "120283   Howard County  \n",
       "\n",
       "[129 rows x 8 columns]"
      ]
     },
     "execution_count": 82,
     "metadata": {},
     "output_type": "execute_result"
    }
   ],
   "source": [
    "allpoints.loc[allpoints['HUC12'] == '020600060202', :]"
   ]
  },
  {
   "cell_type": "code",
   "execution_count": 45,
   "metadata": {
    "ExecuteTime": {
     "end_time": "2020-08-10T16:08:05.903279Z",
     "start_time": "2020-08-10T16:08:05.779452Z"
    }
   },
   "outputs": [
    {
     "data": {
      "text/plain": [
       "HUC12         STATE\n",
       "020600060202  MD       129\n",
       "020600031201  MD        80\n",
       "020600031102  MD        61\n",
       "020700080802  MD        59\n",
       "020600040203  MD        59\n",
       "                      ... \n",
       "020700100603  VA         1\n",
       "020700100601  VA         1\n",
       "020700100503  VA         1\n",
       "020700100307  DC         1\n",
       "020403030303  MD         1\n",
       "Name: STATE, Length: 1610, dtype: int64"
      ]
     },
     "execution_count": 45,
     "metadata": {},
     "output_type": "execute_result"
    }
   ],
   "source": [
    "allpoints.groupby('HUC12')['STATE'].value_counts().sort_values(ascending = False)"
   ]
  },
  {
   "cell_type": "markdown",
   "metadata": {},
   "source": [
    "### Wrangling the Water Data to make sense more\n",
    "\n",
    "https://www.chesapeakemonitoringcoop.org/wp-content/uploads/2020/07/Data-Dictionary_June-2020.pdf"
   ]
  },
  {
   "cell_type": "code",
   "execution_count": 89,
   "metadata": {
    "ExecuteTime": {
     "end_time": "2020-08-11T22:34:54.693742Z",
     "start_time": "2020-08-11T22:34:54.634870Z"
    }
   },
   "outputs": [
    {
     "data": {
      "text/plain": [
       "20600010000    376906\n",
       "20801010000    286757\n",
       "20700111001     53982\n",
       "20801070204     42291\n",
       "20600040302     35934\n",
       "                ...  \n",
       "20502050101         4\n",
       "20501020702         4\n",
       "20501020801         4\n",
       "20502050505         4\n",
       "20501050203         2\n",
       "Name: HUC12_, Length: 759, dtype: int64"
      ]
     },
     "execution_count": 89,
     "metadata": {},
     "output_type": "execute_result"
    }
   ],
   "source": [
    "water['HUC12_'].value_counts()"
   ]
  },
  {
   "cell_type": "code",
   "execution_count": 91,
   "metadata": {
    "ExecuteTime": {
     "end_time": "2020-08-11T22:35:33.961416Z",
     "start_time": "2020-08-11T22:35:32.971288Z"
    }
   },
   "outputs": [
    {
     "data": {
      "text/plain": [
       "HUC12_\n",
       "20600040203    59\n",
       "20600010000    52\n",
       "20700100204    40\n",
       "20600040302    31\n",
       "20802050607    26\n",
       "               ..\n",
       "20503050502     1\n",
       "20503050503     1\n",
       "20700110904     1\n",
       "20503050802     1\n",
       "20403030303     1\n",
       "Name: coordinates, Length: 759, dtype: int64"
      ]
     },
     "execution_count": 91,
     "metadata": {},
     "output_type": "execute_result"
    }
   ],
   "source": [
    "water.groupby('HUC12_')['coordinates'].nunique().sort_values(ascending = False)"
   ]
  },
  {
   "cell_type": "code",
   "execution_count": 107,
   "metadata": {
    "ExecuteTime": {
     "end_time": "2020-08-11T22:51:34.580507Z",
     "start_time": "2020-08-11T22:51:33.232197Z"
    }
   },
   "outputs": [],
   "source": [
    "water_subset = water[water['HUC12_'] == 20600010000]"
   ]
  },
  {
   "cell_type": "code",
   "execution_count": 94,
   "metadata": {
    "ExecuteTime": {
     "end_time": "2020-08-11T22:37:18.986094Z",
     "start_time": "2020-08-11T22:36:55.835228Z"
    }
   },
   "outputs": [],
   "source": [
    "water_subset.to_csv('water_subset.csv')"
   ]
  },
  {
   "cell_type": "code",
   "execution_count": 109,
   "metadata": {
    "ExecuteTime": {
     "end_time": "2020-08-11T22:52:38.192152Z",
     "start_time": "2020-08-11T22:52:34.467985Z"
    }
   },
   "outputs": [
    {
     "name": "stderr",
     "output_type": "stream",
     "text": [
      "C:\\Users\\isaac\\Anaconda3\\lib\\site-packages\\ipykernel_launcher.py:2: SettingWithCopyWarning:\n",
      "\n",
      "\n",
      "A value is trying to be set on a copy of a slice from a DataFrame.\n",
      "Try using .loc[row_indexer,col_indexer] = value instead\n",
      "\n",
      "See the caveats in the documentation: https://pandas.pydata.org/pandas-docs/stable/user_guide/indexing.html#returning-a-view-versus-a-copy\n",
      "\n"
     ]
    }
   ],
   "source": [
    "# Change the date\n",
    "water_subset['Date'] = water_subset['Date'].apply(lambda x: datetime.strptime(x, '%m/%d/%Y'))"
   ]
  },
  {
   "cell_type": "code",
   "execution_count": 121,
   "metadata": {
    "ExecuteTime": {
     "end_time": "2020-08-11T22:54:22.583375Z",
     "start_time": "2020-08-11T22:54:22.451276Z"
    }
   },
   "outputs": [
    {
     "data": {
      "text/plain": [
       "Date\n",
       "1     1199\n",
       "2      900\n",
       "3     1033\n",
       "4     2266\n",
       "5     2231\n",
       "6     3912\n",
       "7     2968\n",
       "8     4076\n",
       "9     2175\n",
       "10    1814\n",
       "11    1455\n",
       "12    1257\n",
       "Name: HUC12, dtype: int64"
      ]
     },
     "execution_count": 121,
     "metadata": {},
     "output_type": "execute_result"
    }
   ],
   "source": [
    "water_subset.loc[]"
   ]
  },
  {
   "cell_type": "code",
   "execution_count": 131,
   "metadata": {
    "ExecuteTime": {
     "end_time": "2020-08-11T22:58:06.192643Z",
     "start_time": "2020-08-11T22:58:06.137757Z"
    }
   },
   "outputs": [
    {
     "data": {
      "text/plain": [
       "Parameter\n",
       "AT.3            6\n",
       "CHL.1         196\n",
       "CHLA        15030\n",
       "CO.5          200\n",
       "DO          66146\n",
       "DO.2          200\n",
       "DO.3          200\n",
       "DO.5           30\n",
       "NH4F        14777\n",
       "NO3F        15334\n",
       "PH          65941\n",
       "PH.4          200\n",
       "PO4F        14770\n",
       "SA.3          200\n",
       "SA.9           30\n",
       "SALINITY    66340\n",
       "SECCHI       6674\n",
       "TN          14397\n",
       "TP          14473\n",
       "TSS         15118\n",
       "WC.2           23\n",
       "WT.3          200\n",
       "WT.4           30\n",
       "WTEMP       66391\n",
       "Name: Date, dtype: int64"
      ]
     },
     "execution_count": 131,
     "metadata": {},
     "output_type": "execute_result"
    }
   ],
   "source": [
    "water_subset.groupby('Parameter')['Date'].count()"
   ]
  },
  {
   "cell_type": "code",
   "execution_count": 132,
   "metadata": {
    "ExecuteTime": {
     "end_time": "2020-08-11T22:59:05.230202Z",
     "start_time": "2020-08-11T22:59:05.136454Z"
    }
   },
   "outputs": [
    {
     "data": {
      "text/plain": [
       "280151     TOTAL NITROGEN\n",
       "280152     TOTAL NITROGEN\n",
       "280153     TOTAL NITROGEN\n",
       "280200     TOTAL NITROGEN\n",
       "280201     TOTAL NITROGEN\n",
       "                ...      \n",
       "2186399    TOTAL NITROGEN\n",
       "2186400    TOTAL NITROGEN\n",
       "2186401    TOTAL NITROGEN\n",
       "2186402    TOTAL NITROGEN\n",
       "2186454    TOTAL NITROGEN\n",
       "Name: ParameterName_CBP, Length: 14397, dtype: object"
      ]
     },
     "execution_count": 132,
     "metadata": {},
     "output_type": "execute_result"
    }
   ],
   "source": [
    "water_subset.loc[water_subset['Parameter'] == 'TN', 'ParameterName_CBP']"
   ]
  },
  {
   "cell_type": "code",
   "execution_count": null,
   "metadata": {},
   "outputs": [],
   "source": []
  },
  {
   "cell_type": "code",
   "execution_count": null,
   "metadata": {},
   "outputs": [],
   "source": []
  },
  {
   "cell_type": "markdown",
   "metadata": {},
   "source": [
    "## Plotting Using Mapbox and plotly"
   ]
  },
  {
   "cell_type": "code",
   "execution_count": 15,
   "metadata": {
    "ExecuteTime": {
     "end_time": "2020-08-10T15:08:07.764301Z",
     "start_time": "2020-08-10T15:08:05.524227Z"
    }
   },
   "outputs": [],
   "source": [
    "import plotly.graph_objects as go\n",
    "mapbox_access_token = \"pk.eyJ1IjoidGhhbXN1cHBwIiwiYSI6ImNrN3Z4eTk2cTA3M2czbG5udDBtM29ubGIifQ.3UvulsJUb0FSLnAOkJiRiA\""
   ]
  },
  {
   "cell_type": "code",
   "execution_count": 17,
   "metadata": {
    "ExecuteTime": {
     "end_time": "2020-08-10T15:09:30.668288Z",
     "start_time": "2020-08-10T15:08:13.444793Z"
    }
   },
   "outputs": [],
   "source": [
    "# Set the coordinates as a tuple so they can be group-by\n",
    "water['coordinates'] = water['Point'].apply(lambda point: (point.x, point.y))"
   ]
  },
  {
   "cell_type": "markdown",
   "metadata": {},
   "source": [
    "There are 2544 unique coordinates, but only 912 unique stations (some coordinates are not stations?)\n",
    "1622 unique StationCodes and StationNames - but they are "
   ]
  },
  {
   "cell_type": "code",
   "execution_count": 18,
   "metadata": {
    "ExecuteTime": {
     "end_time": "2020-08-10T15:09:35.923123Z",
     "start_time": "2020-08-10T15:09:34.638653Z"
    }
   },
   "outputs": [
    {
     "data": {
      "text/plain": [
       "coordinates\n",
       "(-76.29215, 38.3187)     28318\n",
       "(-76.39945, 38.82593)    28240\n",
       "(-76.22787, 38.13705)    27817\n",
       "(-76.34565, 38.41457)    27767\n",
       "(-76.35967, 38.99596)    26170\n",
       "                         ...  \n",
       "(-76.0045, 42.1804)          2\n",
       "(-77.1025, 40.2597)          1\n",
       "(-79.25378, 38.20305)        1\n",
       "(-79.29465, 38.27945)        1\n",
       "(-77.6392, 41.83788)         1\n",
       "Name: Point, Length: 2544, dtype: int64"
      ]
     },
     "execution_count": 18,
     "metadata": {},
     "output_type": "execute_result"
    }
   ],
   "source": [
    "water.groupby('coordinates')['Point'].count().sort_values(ascending = False)"
   ]
  },
  {
   "cell_type": "code",
   "execution_count": 161,
   "metadata": {
    "ExecuteTime": {
     "end_time": "2020-08-11T23:51:31.689985Z",
     "start_time": "2020-08-11T23:51:06.792290Z"
    }
   },
   "outputs": [
    {
     "name": "stderr",
     "output_type": "stream",
     "text": [
      "C:\\Users\\isaac\\Anaconda3\\lib\\site-packages\\ipykernel_launcher.py:1: SettingWithCopyWarning:\n",
      "\n",
      "\n",
      "A value is trying to be set on a copy of a slice from a DataFrame.\n",
      "Try using .loc[row_indexer,col_indexer] = value instead\n",
      "\n",
      "See the caveats in the documentation: https://pandas.pydata.org/pandas-docs/stable/user_guide/indexing.html#returning-a-view-versus-a-copy\n",
      "\n",
      "C:\\Users\\isaac\\Anaconda3\\lib\\site-packages\\ipykernel_launcher.py:2: SettingWithCopyWarning:\n",
      "\n",
      "\n",
      "A value is trying to be set on a copy of a slice from a DataFrame.\n",
      "Try using .loc[row_indexer,col_indexer] = value instead\n",
      "\n",
      "See the caveats in the documentation: https://pandas.pydata.org/pandas-docs/stable/user_guide/indexing.html#returning-a-view-versus-a-copy\n",
      "\n",
      "C:\\Users\\isaac\\Anaconda3\\lib\\site-packages\\ipykernel_launcher.py:3: SettingWithCopyWarning:\n",
      "\n",
      "\n",
      "A value is trying to be set on a copy of a slice from a DataFrame.\n",
      "Try using .loc[row_indexer,col_indexer] = value instead\n",
      "\n",
      "See the caveats in the documentation: https://pandas.pydata.org/pandas-docs/stable/user_guide/indexing.html#returning-a-view-versus-a-copy\n",
      "\n"
     ]
    }
   ],
   "source": [
    "water_subset['Year'] = water_subset['Date'].apply(lambda x: x.year)\n",
    "water_subset['Month'] = water_subset['Date'].apply(lambda x: x.month)\n",
    "water_subset['Day'] = water_subset['Date'].apply(lambda x: x.day)\n"
   ]
  },
  {
   "cell_type": "code",
   "execution_count": null,
   "metadata": {},
   "outputs": [],
   "source": []
  },
  {
   "cell_type": "code",
   "execution_count": null,
   "metadata": {},
   "outputs": [],
   "source": []
  },
  {
   "cell_type": "code",
   "execution_count": null,
   "metadata": {},
   "outputs": [],
   "source": []
  },
  {
   "cell_type": "code",
   "execution_count": 28,
   "metadata": {
    "ExecuteTime": {
     "end_time": "2020-08-10T15:19:57.458844Z",
     "start_time": "2020-08-10T15:19:56.124230Z"
    }
   },
   "outputs": [],
   "source": []
  },
  {
   "cell_type": "code",
   "execution_count": 135,
   "metadata": {
    "ExecuteTime": {
     "end_time": "2020-08-11T23:02:10.686893Z",
     "start_time": "2020-08-11T23:02:10.039117Z"
    }
   },
   "outputs": [],
   "source": [
    "water_site_counts = water_subset.groupby('coordinates')['Point'].agg(['count', 'first'])\n",
    "water_site_counts['Lat'] = water_site_counts['first'].apply(lambda x: x.y)\n",
    "water_site_counts['Long'] = water_site_counts['first'].apply(lambda x: x.x)"
   ]
  },
  {
   "cell_type": "code",
   "execution_count": 136,
   "metadata": {
    "ExecuteTime": {
     "end_time": "2020-08-11T23:02:18.302503Z",
     "start_time": "2020-08-11T23:02:16.970538Z"
    }
   },
   "outputs": [
    {
     "data": {
      "application/vnd.plotly.v1+json": {
       "config": {
        "plotlyServerURL": "https://plot.ly"
       },
       "data": [
        {
         "lat": [
          38.75465,
          38.68838,
          38.64354,
          38.55728,
          38.895678000000004,
          38.81498,
          38.9611,
          38.55505,
          38.312,
          38.64618,
          38.5563,
          38.64498,
          38.82593,
          38.55624,
          39.15191,
          39.00462,
          38.85222,
          38.32522,
          38.81809000000001,
          38.95701,
          39.04072,
          38.99596,
          39.00585,
          39.17573,
          38.41457,
          39.00412,
          39.2473,
          39.07062,
          39.09698,
          39.16369,
          39.2037,
          38.3715,
          38.3187,
          39.2588,
          38.1889,
          39.2954,
          39.0779,
          39.2495,
          38.13705,
          39.3196,
          39.348729999999996,
          39.3622,
          38.21032,
          39.4028,
          39.4943,
          39.5404,
          39.38261,
          39.4475,
          39.5053,
          39.4167,
          39.44149,
          39.4866
         ],
         "lon": [
          -76.54488,
          -76.52252,
          -76.50216999999998,
          -76.49401999999998,
          -76.473597,
          -76.46271999999998,
          -76.4475,
          -76.42794,
          -76.42151,
          -76.42126999999998,
          -76.4147,
          -76.40131,
          -76.39945,
          -76.39121,
          -76.39115,
          -76.3881,
          -76.38694,
          -76.37574000000002,
          -76.37144,
          -76.36705,
          -76.35996999999998,
          -76.35967,
          -76.35438,
          -76.34747,
          -76.34565,
          -76.34517,
          -76.3323,
          -76.30788000000003,
          -76.30731999999998,
          -76.30631,
          -76.29321999999998,
          -76.29316999999998,
          -76.29215,
          -76.2863,
          -76.2653,
          -76.2534,
          -76.24163,
          -76.2405,
          -76.22787,
          -76.2086,
          -76.17579,
          -76.1749,
          -76.14286,
          -76.1019,
          -76.0876,
          -76.0736,
          -76.06811,
          -76.0525,
          -76.0414,
          -76.0333,
          -76.02599000000002,
          -76.0006
         ],
         "marker": {
          "color": [
           490,
           474,
           7231,
           7390,
           1419,
           7389,
           2911,
           25587,
           12361,
           25544,
           5146,
           8335,
           28240,
           15483,
           1746,
           7633,
           641,
           10478,
           16396,
           722,
           1065,
           26170,
           322,
           665,
           27767,
           7155,
           680,
           21,
           944,
           16954,
           516,
           409,
           28318,
           448,
           93,
           455,
           612,
           17433,
           27817,
           855,
           16521,
           611,
           465,
           434,
           650,
           1736,
           96,
           663,
           1412,
           751,
           8439,
           813
          ],
          "size": 5
         },
         "mode": "markers",
         "text": [
          490,
          474,
          7231,
          7390,
          1419,
          7389,
          2911,
          25587,
          12361,
          25544,
          5146,
          8335,
          28240,
          15483,
          1746,
          7633,
          641,
          10478,
          16396,
          722,
          1065,
          26170,
          322,
          665,
          27767,
          7155,
          680,
          21,
          944,
          16954,
          516,
          409,
          28318,
          448,
          93,
          455,
          612,
          17433,
          27817,
          855,
          16521,
          611,
          465,
          434,
          650,
          1736,
          96,
          663,
          1412,
          751,
          8439,
          813
         ],
         "type": "scattermapbox"
        }
       ],
       "layout": {
        "height": 800,
        "hovermode": "closest",
        "mapbox": {
         "accesstoken": "pk.eyJ1IjoidGhhbXN1cHBwIiwiYSI6ImNrN3Z4eTk2cTA3M2czbG5udDBtM29ubGIifQ.3UvulsJUb0FSLnAOkJiRiA",
         "bearing": 0,
         "center": {
          "lat": 40,
          "lon": -75
         },
         "pitch": 0,
         "zoom": 7
        },
        "margin": {
         "b": 0,
         "l": 50,
         "r": 50,
         "t": 0
        },
        "showlegend": true,
        "template": {
         "data": {
          "bar": [
           {
            "error_x": {
             "color": "#2a3f5f"
            },
            "error_y": {
             "color": "#2a3f5f"
            },
            "marker": {
             "line": {
              "color": "#E5ECF6",
              "width": 0.5
             }
            },
            "type": "bar"
           }
          ],
          "barpolar": [
           {
            "marker": {
             "line": {
              "color": "#E5ECF6",
              "width": 0.5
             }
            },
            "type": "barpolar"
           }
          ],
          "carpet": [
           {
            "aaxis": {
             "endlinecolor": "#2a3f5f",
             "gridcolor": "white",
             "linecolor": "white",
             "minorgridcolor": "white",
             "startlinecolor": "#2a3f5f"
            },
            "baxis": {
             "endlinecolor": "#2a3f5f",
             "gridcolor": "white",
             "linecolor": "white",
             "minorgridcolor": "white",
             "startlinecolor": "#2a3f5f"
            },
            "type": "carpet"
           }
          ],
          "choropleth": [
           {
            "colorbar": {
             "outlinewidth": 0,
             "ticks": ""
            },
            "type": "choropleth"
           }
          ],
          "contour": [
           {
            "colorbar": {
             "outlinewidth": 0,
             "ticks": ""
            },
            "colorscale": [
             [
              0,
              "#0d0887"
             ],
             [
              0.1111111111111111,
              "#46039f"
             ],
             [
              0.2222222222222222,
              "#7201a8"
             ],
             [
              0.3333333333333333,
              "#9c179e"
             ],
             [
              0.4444444444444444,
              "#bd3786"
             ],
             [
              0.5555555555555556,
              "#d8576b"
             ],
             [
              0.6666666666666666,
              "#ed7953"
             ],
             [
              0.7777777777777778,
              "#fb9f3a"
             ],
             [
              0.8888888888888888,
              "#fdca26"
             ],
             [
              1,
              "#f0f921"
             ]
            ],
            "type": "contour"
           }
          ],
          "contourcarpet": [
           {
            "colorbar": {
             "outlinewidth": 0,
             "ticks": ""
            },
            "type": "contourcarpet"
           }
          ],
          "heatmap": [
           {
            "colorbar": {
             "outlinewidth": 0,
             "ticks": ""
            },
            "colorscale": [
             [
              0,
              "#0d0887"
             ],
             [
              0.1111111111111111,
              "#46039f"
             ],
             [
              0.2222222222222222,
              "#7201a8"
             ],
             [
              0.3333333333333333,
              "#9c179e"
             ],
             [
              0.4444444444444444,
              "#bd3786"
             ],
             [
              0.5555555555555556,
              "#d8576b"
             ],
             [
              0.6666666666666666,
              "#ed7953"
             ],
             [
              0.7777777777777778,
              "#fb9f3a"
             ],
             [
              0.8888888888888888,
              "#fdca26"
             ],
             [
              1,
              "#f0f921"
             ]
            ],
            "type": "heatmap"
           }
          ],
          "heatmapgl": [
           {
            "colorbar": {
             "outlinewidth": 0,
             "ticks": ""
            },
            "colorscale": [
             [
              0,
              "#0d0887"
             ],
             [
              0.1111111111111111,
              "#46039f"
             ],
             [
              0.2222222222222222,
              "#7201a8"
             ],
             [
              0.3333333333333333,
              "#9c179e"
             ],
             [
              0.4444444444444444,
              "#bd3786"
             ],
             [
              0.5555555555555556,
              "#d8576b"
             ],
             [
              0.6666666666666666,
              "#ed7953"
             ],
             [
              0.7777777777777778,
              "#fb9f3a"
             ],
             [
              0.8888888888888888,
              "#fdca26"
             ],
             [
              1,
              "#f0f921"
             ]
            ],
            "type": "heatmapgl"
           }
          ],
          "histogram": [
           {
            "marker": {
             "colorbar": {
              "outlinewidth": 0,
              "ticks": ""
             }
            },
            "type": "histogram"
           }
          ],
          "histogram2d": [
           {
            "colorbar": {
             "outlinewidth": 0,
             "ticks": ""
            },
            "colorscale": [
             [
              0,
              "#0d0887"
             ],
             [
              0.1111111111111111,
              "#46039f"
             ],
             [
              0.2222222222222222,
              "#7201a8"
             ],
             [
              0.3333333333333333,
              "#9c179e"
             ],
             [
              0.4444444444444444,
              "#bd3786"
             ],
             [
              0.5555555555555556,
              "#d8576b"
             ],
             [
              0.6666666666666666,
              "#ed7953"
             ],
             [
              0.7777777777777778,
              "#fb9f3a"
             ],
             [
              0.8888888888888888,
              "#fdca26"
             ],
             [
              1,
              "#f0f921"
             ]
            ],
            "type": "histogram2d"
           }
          ],
          "histogram2dcontour": [
           {
            "colorbar": {
             "outlinewidth": 0,
             "ticks": ""
            },
            "colorscale": [
             [
              0,
              "#0d0887"
             ],
             [
              0.1111111111111111,
              "#46039f"
             ],
             [
              0.2222222222222222,
              "#7201a8"
             ],
             [
              0.3333333333333333,
              "#9c179e"
             ],
             [
              0.4444444444444444,
              "#bd3786"
             ],
             [
              0.5555555555555556,
              "#d8576b"
             ],
             [
              0.6666666666666666,
              "#ed7953"
             ],
             [
              0.7777777777777778,
              "#fb9f3a"
             ],
             [
              0.8888888888888888,
              "#fdca26"
             ],
             [
              1,
              "#f0f921"
             ]
            ],
            "type": "histogram2dcontour"
           }
          ],
          "mesh3d": [
           {
            "colorbar": {
             "outlinewidth": 0,
             "ticks": ""
            },
            "type": "mesh3d"
           }
          ],
          "parcoords": [
           {
            "line": {
             "colorbar": {
              "outlinewidth": 0,
              "ticks": ""
             }
            },
            "type": "parcoords"
           }
          ],
          "pie": [
           {
            "automargin": true,
            "type": "pie"
           }
          ],
          "scatter": [
           {
            "marker": {
             "colorbar": {
              "outlinewidth": 0,
              "ticks": ""
             }
            },
            "type": "scatter"
           }
          ],
          "scatter3d": [
           {
            "line": {
             "colorbar": {
              "outlinewidth": 0,
              "ticks": ""
             }
            },
            "marker": {
             "colorbar": {
              "outlinewidth": 0,
              "ticks": ""
             }
            },
            "type": "scatter3d"
           }
          ],
          "scattercarpet": [
           {
            "marker": {
             "colorbar": {
              "outlinewidth": 0,
              "ticks": ""
             }
            },
            "type": "scattercarpet"
           }
          ],
          "scattergeo": [
           {
            "marker": {
             "colorbar": {
              "outlinewidth": 0,
              "ticks": ""
             }
            },
            "type": "scattergeo"
           }
          ],
          "scattergl": [
           {
            "marker": {
             "colorbar": {
              "outlinewidth": 0,
              "ticks": ""
             }
            },
            "type": "scattergl"
           }
          ],
          "scattermapbox": [
           {
            "marker": {
             "colorbar": {
              "outlinewidth": 0,
              "ticks": ""
             }
            },
            "type": "scattermapbox"
           }
          ],
          "scatterpolar": [
           {
            "marker": {
             "colorbar": {
              "outlinewidth": 0,
              "ticks": ""
             }
            },
            "type": "scatterpolar"
           }
          ],
          "scatterpolargl": [
           {
            "marker": {
             "colorbar": {
              "outlinewidth": 0,
              "ticks": ""
             }
            },
            "type": "scatterpolargl"
           }
          ],
          "scatterternary": [
           {
            "marker": {
             "colorbar": {
              "outlinewidth": 0,
              "ticks": ""
             }
            },
            "type": "scatterternary"
           }
          ],
          "surface": [
           {
            "colorbar": {
             "outlinewidth": 0,
             "ticks": ""
            },
            "colorscale": [
             [
              0,
              "#0d0887"
             ],
             [
              0.1111111111111111,
              "#46039f"
             ],
             [
              0.2222222222222222,
              "#7201a8"
             ],
             [
              0.3333333333333333,
              "#9c179e"
             ],
             [
              0.4444444444444444,
              "#bd3786"
             ],
             [
              0.5555555555555556,
              "#d8576b"
             ],
             [
              0.6666666666666666,
              "#ed7953"
             ],
             [
              0.7777777777777778,
              "#fb9f3a"
             ],
             [
              0.8888888888888888,
              "#fdca26"
             ],
             [
              1,
              "#f0f921"
             ]
            ],
            "type": "surface"
           }
          ],
          "table": [
           {
            "cells": {
             "fill": {
              "color": "#EBF0F8"
             },
             "line": {
              "color": "white"
             }
            },
            "header": {
             "fill": {
              "color": "#C8D4E3"
             },
             "line": {
              "color": "white"
             }
            },
            "type": "table"
           }
          ]
         },
         "layout": {
          "annotationdefaults": {
           "arrowcolor": "#2a3f5f",
           "arrowhead": 0,
           "arrowwidth": 1
          },
          "coloraxis": {
           "colorbar": {
            "outlinewidth": 0,
            "ticks": ""
           }
          },
          "colorscale": {
           "diverging": [
            [
             0,
             "#8e0152"
            ],
            [
             0.1,
             "#c51b7d"
            ],
            [
             0.2,
             "#de77ae"
            ],
            [
             0.3,
             "#f1b6da"
            ],
            [
             0.4,
             "#fde0ef"
            ],
            [
             0.5,
             "#f7f7f7"
            ],
            [
             0.6,
             "#e6f5d0"
            ],
            [
             0.7,
             "#b8e186"
            ],
            [
             0.8,
             "#7fbc41"
            ],
            [
             0.9,
             "#4d9221"
            ],
            [
             1,
             "#276419"
            ]
           ],
           "sequential": [
            [
             0,
             "#0d0887"
            ],
            [
             0.1111111111111111,
             "#46039f"
            ],
            [
             0.2222222222222222,
             "#7201a8"
            ],
            [
             0.3333333333333333,
             "#9c179e"
            ],
            [
             0.4444444444444444,
             "#bd3786"
            ],
            [
             0.5555555555555556,
             "#d8576b"
            ],
            [
             0.6666666666666666,
             "#ed7953"
            ],
            [
             0.7777777777777778,
             "#fb9f3a"
            ],
            [
             0.8888888888888888,
             "#fdca26"
            ],
            [
             1,
             "#f0f921"
            ]
           ],
           "sequentialminus": [
            [
             0,
             "#0d0887"
            ],
            [
             0.1111111111111111,
             "#46039f"
            ],
            [
             0.2222222222222222,
             "#7201a8"
            ],
            [
             0.3333333333333333,
             "#9c179e"
            ],
            [
             0.4444444444444444,
             "#bd3786"
            ],
            [
             0.5555555555555556,
             "#d8576b"
            ],
            [
             0.6666666666666666,
             "#ed7953"
            ],
            [
             0.7777777777777778,
             "#fb9f3a"
            ],
            [
             0.8888888888888888,
             "#fdca26"
            ],
            [
             1,
             "#f0f921"
            ]
           ]
          },
          "colorway": [
           "#636efa",
           "#EF553B",
           "#00cc96",
           "#ab63fa",
           "#FFA15A",
           "#19d3f3",
           "#FF6692",
           "#B6E880",
           "#FF97FF",
           "#FECB52"
          ],
          "font": {
           "color": "#2a3f5f"
          },
          "geo": {
           "bgcolor": "white",
           "lakecolor": "white",
           "landcolor": "#E5ECF6",
           "showlakes": true,
           "showland": true,
           "subunitcolor": "white"
          },
          "hoverlabel": {
           "align": "left"
          },
          "hovermode": "closest",
          "mapbox": {
           "style": "light"
          },
          "paper_bgcolor": "white",
          "plot_bgcolor": "#E5ECF6",
          "polar": {
           "angularaxis": {
            "gridcolor": "white",
            "linecolor": "white",
            "ticks": ""
           },
           "bgcolor": "#E5ECF6",
           "radialaxis": {
            "gridcolor": "white",
            "linecolor": "white",
            "ticks": ""
           }
          },
          "scene": {
           "xaxis": {
            "backgroundcolor": "#E5ECF6",
            "gridcolor": "white",
            "gridwidth": 2,
            "linecolor": "white",
            "showbackground": true,
            "ticks": "",
            "zerolinecolor": "white"
           },
           "yaxis": {
            "backgroundcolor": "#E5ECF6",
            "gridcolor": "white",
            "gridwidth": 2,
            "linecolor": "white",
            "showbackground": true,
            "ticks": "",
            "zerolinecolor": "white"
           },
           "zaxis": {
            "backgroundcolor": "#E5ECF6",
            "gridcolor": "white",
            "gridwidth": 2,
            "linecolor": "white",
            "showbackground": true,
            "ticks": "",
            "zerolinecolor": "white"
           }
          },
          "shapedefaults": {
           "line": {
            "color": "#2a3f5f"
           }
          },
          "ternary": {
           "aaxis": {
            "gridcolor": "white",
            "linecolor": "white",
            "ticks": ""
           },
           "baxis": {
            "gridcolor": "white",
            "linecolor": "white",
            "ticks": ""
           },
           "bgcolor": "#E5ECF6",
           "caxis": {
            "gridcolor": "white",
            "linecolor": "white",
            "ticks": ""
           }
          },
          "title": {
           "x": 0.05
          },
          "xaxis": {
           "automargin": true,
           "gridcolor": "white",
           "linecolor": "white",
           "ticks": "",
           "title": {
            "standoff": 15
           },
           "zerolinecolor": "white",
           "zerolinewidth": 2
          },
          "yaxis": {
           "automargin": true,
           "gridcolor": "white",
           "linecolor": "white",
           "ticks": "",
           "title": {
            "standoff": 15
           },
           "zerolinecolor": "white",
           "zerolinewidth": 2
          }
         }
        },
        "width": 1000
       }
      },
      "text/html": [
       "<div>\n",
       "        \n",
       "        \n",
       "            <div id=\"c1fe552a-a6b0-435c-a780-949adf3e47fa\" class=\"plotly-graph-div\" style=\"height:800px; width:1000px;\"></div>\n",
       "            <script type=\"text/javascript\">\n",
       "                require([\"plotly\"], function(Plotly) {\n",
       "                    window.PLOTLYENV=window.PLOTLYENV || {};\n",
       "                    \n",
       "                if (document.getElementById(\"c1fe552a-a6b0-435c-a780-949adf3e47fa\")) {\n",
       "                    Plotly.newPlot(\n",
       "                        'c1fe552a-a6b0-435c-a780-949adf3e47fa',\n",
       "                        [{\"lat\": [38.75465, 38.68838, 38.64354, 38.55728, 38.895678000000004, 38.81498, 38.9611, 38.55505, 38.312, 38.64618, 38.5563, 38.64498, 38.82593, 38.55624, 39.15191, 39.00462, 38.85222, 38.32522, 38.81809000000001, 38.95701, 39.04072, 38.99596, 39.00585, 39.17573, 38.41457, 39.00412, 39.2473, 39.07062, 39.09698, 39.16369, 39.2037, 38.3715, 38.3187, 39.2588, 38.1889, 39.2954, 39.0779, 39.2495, 38.13705, 39.3196, 39.348729999999996, 39.3622, 38.21032, 39.4028, 39.4943, 39.5404, 39.38261, 39.4475, 39.5053, 39.4167, 39.44149, 39.4866], \"lon\": [-76.54488, -76.52252, -76.50216999999998, -76.49401999999998, -76.473597, -76.46271999999998, -76.4475, -76.42794, -76.42151, -76.42126999999998, -76.4147, -76.40131, -76.39945, -76.39121, -76.39115, -76.3881, -76.38694, -76.37574000000002, -76.37144, -76.36705, -76.35996999999998, -76.35967, -76.35438, -76.34747, -76.34565, -76.34517, -76.3323, -76.30788000000003, -76.30731999999998, -76.30631, -76.29321999999998, -76.29316999999998, -76.29215, -76.2863, -76.2653, -76.2534, -76.24163, -76.2405, -76.22787, -76.2086, -76.17579, -76.1749, -76.14286, -76.1019, -76.0876, -76.0736, -76.06811, -76.0525, -76.0414, -76.0333, -76.02599000000002, -76.0006], \"marker\": {\"color\": [490, 474, 7231, 7390, 1419, 7389, 2911, 25587, 12361, 25544, 5146, 8335, 28240, 15483, 1746, 7633, 641, 10478, 16396, 722, 1065, 26170, 322, 665, 27767, 7155, 680, 21, 944, 16954, 516, 409, 28318, 448, 93, 455, 612, 17433, 27817, 855, 16521, 611, 465, 434, 650, 1736, 96, 663, 1412, 751, 8439, 813], \"size\": 5}, \"mode\": \"markers\", \"text\": [490.0, 474.0, 7231.0, 7390.0, 1419.0, 7389.0, 2911.0, 25587.0, 12361.0, 25544.0, 5146.0, 8335.0, 28240.0, 15483.0, 1746.0, 7633.0, 641.0, 10478.0, 16396.0, 722.0, 1065.0, 26170.0, 322.0, 665.0, 27767.0, 7155.0, 680.0, 21.0, 944.0, 16954.0, 516.0, 409.0, 28318.0, 448.0, 93.0, 455.0, 612.0, 17433.0, 27817.0, 855.0, 16521.0, 611.0, 465.0, 434.0, 650.0, 1736.0, 96.0, 663.0, 1412.0, 751.0, 8439.0, 813.0], \"type\": \"scattermapbox\"}],\n",
       "                        {\"height\": 800, \"hovermode\": \"closest\", \"mapbox\": {\"accesstoken\": \"pk.eyJ1IjoidGhhbXN1cHBwIiwiYSI6ImNrN3Z4eTk2cTA3M2czbG5udDBtM29ubGIifQ.3UvulsJUb0FSLnAOkJiRiA\", \"bearing\": 0, \"center\": {\"lat\": 40, \"lon\": -75}, \"pitch\": 0, \"zoom\": 7}, \"margin\": {\"b\": 0, \"l\": 50, \"r\": 50, \"t\": 0}, \"showlegend\": true, \"template\": {\"data\": {\"bar\": [{\"error_x\": {\"color\": \"#2a3f5f\"}, \"error_y\": {\"color\": \"#2a3f5f\"}, \"marker\": {\"line\": {\"color\": \"#E5ECF6\", \"width\": 0.5}}, \"type\": \"bar\"}], \"barpolar\": [{\"marker\": {\"line\": {\"color\": \"#E5ECF6\", \"width\": 0.5}}, \"type\": \"barpolar\"}], \"carpet\": [{\"aaxis\": {\"endlinecolor\": \"#2a3f5f\", \"gridcolor\": \"white\", \"linecolor\": \"white\", \"minorgridcolor\": \"white\", \"startlinecolor\": \"#2a3f5f\"}, \"baxis\": {\"endlinecolor\": \"#2a3f5f\", \"gridcolor\": \"white\", \"linecolor\": \"white\", \"minorgridcolor\": \"white\", \"startlinecolor\": \"#2a3f5f\"}, \"type\": \"carpet\"}], \"choropleth\": [{\"colorbar\": {\"outlinewidth\": 0, \"ticks\": \"\"}, \"type\": \"choropleth\"}], \"contour\": [{\"colorbar\": {\"outlinewidth\": 0, \"ticks\": \"\"}, \"colorscale\": [[0.0, \"#0d0887\"], [0.1111111111111111, \"#46039f\"], [0.2222222222222222, \"#7201a8\"], [0.3333333333333333, \"#9c179e\"], [0.4444444444444444, \"#bd3786\"], [0.5555555555555556, \"#d8576b\"], [0.6666666666666666, \"#ed7953\"], [0.7777777777777778, \"#fb9f3a\"], [0.8888888888888888, \"#fdca26\"], [1.0, \"#f0f921\"]], \"type\": \"contour\"}], \"contourcarpet\": [{\"colorbar\": {\"outlinewidth\": 0, \"ticks\": \"\"}, \"type\": \"contourcarpet\"}], \"heatmap\": [{\"colorbar\": {\"outlinewidth\": 0, \"ticks\": \"\"}, \"colorscale\": [[0.0, \"#0d0887\"], [0.1111111111111111, \"#46039f\"], [0.2222222222222222, \"#7201a8\"], [0.3333333333333333, \"#9c179e\"], [0.4444444444444444, \"#bd3786\"], [0.5555555555555556, \"#d8576b\"], [0.6666666666666666, \"#ed7953\"], [0.7777777777777778, \"#fb9f3a\"], [0.8888888888888888, \"#fdca26\"], [1.0, \"#f0f921\"]], \"type\": \"heatmap\"}], \"heatmapgl\": [{\"colorbar\": {\"outlinewidth\": 0, \"ticks\": \"\"}, \"colorscale\": [[0.0, \"#0d0887\"], [0.1111111111111111, \"#46039f\"], [0.2222222222222222, \"#7201a8\"], [0.3333333333333333, \"#9c179e\"], [0.4444444444444444, \"#bd3786\"], [0.5555555555555556, \"#d8576b\"], [0.6666666666666666, \"#ed7953\"], [0.7777777777777778, \"#fb9f3a\"], [0.8888888888888888, \"#fdca26\"], [1.0, \"#f0f921\"]], \"type\": \"heatmapgl\"}], \"histogram\": [{\"marker\": {\"colorbar\": {\"outlinewidth\": 0, \"ticks\": \"\"}}, \"type\": \"histogram\"}], \"histogram2d\": [{\"colorbar\": {\"outlinewidth\": 0, \"ticks\": \"\"}, \"colorscale\": [[0.0, \"#0d0887\"], [0.1111111111111111, \"#46039f\"], [0.2222222222222222, \"#7201a8\"], [0.3333333333333333, \"#9c179e\"], [0.4444444444444444, \"#bd3786\"], [0.5555555555555556, \"#d8576b\"], [0.6666666666666666, \"#ed7953\"], [0.7777777777777778, \"#fb9f3a\"], [0.8888888888888888, \"#fdca26\"], [1.0, \"#f0f921\"]], \"type\": \"histogram2d\"}], \"histogram2dcontour\": [{\"colorbar\": {\"outlinewidth\": 0, \"ticks\": \"\"}, \"colorscale\": [[0.0, \"#0d0887\"], [0.1111111111111111, \"#46039f\"], [0.2222222222222222, \"#7201a8\"], [0.3333333333333333, \"#9c179e\"], [0.4444444444444444, \"#bd3786\"], [0.5555555555555556, \"#d8576b\"], [0.6666666666666666, \"#ed7953\"], [0.7777777777777778, \"#fb9f3a\"], [0.8888888888888888, \"#fdca26\"], [1.0, \"#f0f921\"]], \"type\": \"histogram2dcontour\"}], \"mesh3d\": [{\"colorbar\": {\"outlinewidth\": 0, \"ticks\": \"\"}, \"type\": \"mesh3d\"}], \"parcoords\": [{\"line\": {\"colorbar\": {\"outlinewidth\": 0, \"ticks\": \"\"}}, \"type\": \"parcoords\"}], \"pie\": [{\"automargin\": true, \"type\": \"pie\"}], \"scatter\": [{\"marker\": {\"colorbar\": {\"outlinewidth\": 0, \"ticks\": \"\"}}, \"type\": \"scatter\"}], \"scatter3d\": [{\"line\": {\"colorbar\": {\"outlinewidth\": 0, \"ticks\": \"\"}}, \"marker\": {\"colorbar\": {\"outlinewidth\": 0, \"ticks\": \"\"}}, \"type\": \"scatter3d\"}], \"scattercarpet\": [{\"marker\": {\"colorbar\": {\"outlinewidth\": 0, \"ticks\": \"\"}}, \"type\": \"scattercarpet\"}], \"scattergeo\": [{\"marker\": {\"colorbar\": {\"outlinewidth\": 0, \"ticks\": \"\"}}, \"type\": \"scattergeo\"}], \"scattergl\": [{\"marker\": {\"colorbar\": {\"outlinewidth\": 0, \"ticks\": \"\"}}, \"type\": \"scattergl\"}], \"scattermapbox\": [{\"marker\": {\"colorbar\": {\"outlinewidth\": 0, \"ticks\": \"\"}}, \"type\": \"scattermapbox\"}], \"scatterpolar\": [{\"marker\": {\"colorbar\": {\"outlinewidth\": 0, \"ticks\": \"\"}}, \"type\": \"scatterpolar\"}], \"scatterpolargl\": [{\"marker\": {\"colorbar\": {\"outlinewidth\": 0, \"ticks\": \"\"}}, \"type\": \"scatterpolargl\"}], \"scatterternary\": [{\"marker\": {\"colorbar\": {\"outlinewidth\": 0, \"ticks\": \"\"}}, \"type\": \"scatterternary\"}], \"surface\": [{\"colorbar\": {\"outlinewidth\": 0, \"ticks\": \"\"}, \"colorscale\": [[0.0, \"#0d0887\"], [0.1111111111111111, \"#46039f\"], [0.2222222222222222, \"#7201a8\"], [0.3333333333333333, \"#9c179e\"], [0.4444444444444444, \"#bd3786\"], [0.5555555555555556, \"#d8576b\"], [0.6666666666666666, \"#ed7953\"], [0.7777777777777778, \"#fb9f3a\"], [0.8888888888888888, \"#fdca26\"], [1.0, \"#f0f921\"]], \"type\": \"surface\"}], \"table\": [{\"cells\": {\"fill\": {\"color\": \"#EBF0F8\"}, \"line\": {\"color\": \"white\"}}, \"header\": {\"fill\": {\"color\": \"#C8D4E3\"}, \"line\": {\"color\": \"white\"}}, \"type\": \"table\"}]}, \"layout\": {\"annotationdefaults\": {\"arrowcolor\": \"#2a3f5f\", \"arrowhead\": 0, \"arrowwidth\": 1}, \"coloraxis\": {\"colorbar\": {\"outlinewidth\": 0, \"ticks\": \"\"}}, \"colorscale\": {\"diverging\": [[0, \"#8e0152\"], [0.1, \"#c51b7d\"], [0.2, \"#de77ae\"], [0.3, \"#f1b6da\"], [0.4, \"#fde0ef\"], [0.5, \"#f7f7f7\"], [0.6, \"#e6f5d0\"], [0.7, \"#b8e186\"], [0.8, \"#7fbc41\"], [0.9, \"#4d9221\"], [1, \"#276419\"]], \"sequential\": [[0.0, \"#0d0887\"], [0.1111111111111111, \"#46039f\"], [0.2222222222222222, \"#7201a8\"], [0.3333333333333333, \"#9c179e\"], [0.4444444444444444, \"#bd3786\"], [0.5555555555555556, \"#d8576b\"], [0.6666666666666666, \"#ed7953\"], [0.7777777777777778, \"#fb9f3a\"], [0.8888888888888888, \"#fdca26\"], [1.0, \"#f0f921\"]], \"sequentialminus\": [[0.0, \"#0d0887\"], [0.1111111111111111, \"#46039f\"], [0.2222222222222222, \"#7201a8\"], [0.3333333333333333, \"#9c179e\"], [0.4444444444444444, \"#bd3786\"], [0.5555555555555556, \"#d8576b\"], [0.6666666666666666, \"#ed7953\"], [0.7777777777777778, \"#fb9f3a\"], [0.8888888888888888, \"#fdca26\"], [1.0, \"#f0f921\"]]}, \"colorway\": [\"#636efa\", \"#EF553B\", \"#00cc96\", \"#ab63fa\", \"#FFA15A\", \"#19d3f3\", \"#FF6692\", \"#B6E880\", \"#FF97FF\", \"#FECB52\"], \"font\": {\"color\": \"#2a3f5f\"}, \"geo\": {\"bgcolor\": \"white\", \"lakecolor\": \"white\", \"landcolor\": \"#E5ECF6\", \"showlakes\": true, \"showland\": true, \"subunitcolor\": \"white\"}, \"hoverlabel\": {\"align\": \"left\"}, \"hovermode\": \"closest\", \"mapbox\": {\"style\": \"light\"}, \"paper_bgcolor\": \"white\", \"plot_bgcolor\": \"#E5ECF6\", \"polar\": {\"angularaxis\": {\"gridcolor\": \"white\", \"linecolor\": \"white\", \"ticks\": \"\"}, \"bgcolor\": \"#E5ECF6\", \"radialaxis\": {\"gridcolor\": \"white\", \"linecolor\": \"white\", \"ticks\": \"\"}}, \"scene\": {\"xaxis\": {\"backgroundcolor\": \"#E5ECF6\", \"gridcolor\": \"white\", \"gridwidth\": 2, \"linecolor\": \"white\", \"showbackground\": true, \"ticks\": \"\", \"zerolinecolor\": \"white\"}, \"yaxis\": {\"backgroundcolor\": \"#E5ECF6\", \"gridcolor\": \"white\", \"gridwidth\": 2, \"linecolor\": \"white\", \"showbackground\": true, \"ticks\": \"\", \"zerolinecolor\": \"white\"}, \"zaxis\": {\"backgroundcolor\": \"#E5ECF6\", \"gridcolor\": \"white\", \"gridwidth\": 2, \"linecolor\": \"white\", \"showbackground\": true, \"ticks\": \"\", \"zerolinecolor\": \"white\"}}, \"shapedefaults\": {\"line\": {\"color\": \"#2a3f5f\"}}, \"ternary\": {\"aaxis\": {\"gridcolor\": \"white\", \"linecolor\": \"white\", \"ticks\": \"\"}, \"baxis\": {\"gridcolor\": \"white\", \"linecolor\": \"white\", \"ticks\": \"\"}, \"bgcolor\": \"#E5ECF6\", \"caxis\": {\"gridcolor\": \"white\", \"linecolor\": \"white\", \"ticks\": \"\"}}, \"title\": {\"x\": 0.05}, \"xaxis\": {\"automargin\": true, \"gridcolor\": \"white\", \"linecolor\": \"white\", \"ticks\": \"\", \"title\": {\"standoff\": 15}, \"zerolinecolor\": \"white\", \"zerolinewidth\": 2}, \"yaxis\": {\"automargin\": true, \"gridcolor\": \"white\", \"linecolor\": \"white\", \"ticks\": \"\", \"title\": {\"standoff\": 15}, \"zerolinecolor\": \"white\", \"zerolinewidth\": 2}}}, \"width\": 1000},\n",
       "                        {\"responsive\": true}\n",
       "                    ).then(function(){\n",
       "                            \n",
       "var gd = document.getElementById('c1fe552a-a6b0-435c-a780-949adf3e47fa');\n",
       "var x = new MutationObserver(function (mutations, observer) {{\n",
       "        var display = window.getComputedStyle(gd).display;\n",
       "        if (!display || display === 'none') {{\n",
       "            console.log([gd, 'removed!']);\n",
       "            Plotly.purge(gd);\n",
       "            observer.disconnect();\n",
       "        }}\n",
       "}});\n",
       "\n",
       "// Listen for the removal of the full notebook cells\n",
       "var notebookContainer = gd.closest('#notebook-container');\n",
       "if (notebookContainer) {{\n",
       "    x.observe(notebookContainer, {childList: true});\n",
       "}}\n",
       "\n",
       "// Listen for the clearing of the current output cell\n",
       "var outputEl = gd.closest('.output');\n",
       "if (outputEl) {{\n",
       "    x.observe(outputEl, {childList: true});\n",
       "}}\n",
       "\n",
       "                        })\n",
       "                };\n",
       "                });\n",
       "            </script>\n",
       "        </div>"
      ]
     },
     "metadata": {},
     "output_type": "display_data"
    }
   ],
   "source": [
    "# Initial Mapbox plot of all the points with data points\n",
    "\n",
    "fig = go.Figure(go.Scattermapbox(\n",
    "        lat = water_site_counts['Lat'],\n",
    "        lon = water_site_counts['Long'],\n",
    "        mode='markers',\n",
    "        marker=go.scattermapbox.Marker(\n",
    "            size = 5,\n",
    "            color = water_site_counts['count']\n",
    "        ),\n",
    "        text= water_site_counts['count'],\n",
    "    ))\n",
    "\n",
    "fig.update_layout(\n",
    "    height = 800,\n",
    "    width = 1000,\n",
    "    margin = {'l': 50, 'r': 50, 't': 0, 'b': 0},\n",
    "    hovermode='closest',\n",
    "    showlegend = True,\n",
    "    mapbox=dict(\n",
    "        accesstoken=mapbox_access_token,\n",
    "        bearing=0,\n",
    "        center=go.layout.mapbox.Center(\n",
    "            lat=40,\n",
    "            lon=-75\n",
    "        ),\n",
    "        pitch=0,\n",
    "        zoom=7\n",
    "    )\n",
    ")\n",
    "\n",
    "fig.show()"
   ]
  },
  {
   "cell_type": "code",
   "execution_count": null,
   "metadata": {},
   "outputs": [],
   "source": []
  },
  {
   "cell_type": "code",
   "execution_count": 165,
   "metadata": {
    "ExecuteTime": {
     "end_time": "2020-08-11T23:59:50.513828Z",
     "start_time": "2020-08-11T23:59:33.158961Z"
    }
   },
   "outputs": [
    {
     "name": "stderr",
     "output_type": "stream",
     "text": [
      "C:\\Users\\isaac\\Anaconda3\\lib\\site-packages\\IPython\\core\\interactiveshell.py:3146: DtypeWarning:\n",
      "\n",
      "Columns (6,10,14,16,23,28,32,35,38,43,46,47,49,63,67) have mixed types.Specify dtype option on import or set low_memory=False.\n",
      "\n"
     ]
    }
   ],
   "source": [
    "a = pd.read_csv('water_subset.csv')"
   ]
  },
  {
   "cell_type": "code",
   "execution_count": 166,
   "metadata": {
    "ExecuteTime": {
     "end_time": "2020-08-12T00:00:39.907894Z",
     "start_time": "2020-08-12T00:00:39.521927Z"
    }
   },
   "outputs": [],
   "source": [
    "counts = a.groupby('coordinates')['coordinates'].agg(['count', 'first'])"
   ]
  },
  {
   "cell_type": "code",
   "execution_count": 150,
   "metadata": {
    "ExecuteTime": {
     "end_time": "2020-08-11T23:35:32.526776Z",
     "start_time": "2020-08-11T23:35:32.433025Z"
    }
   },
   "outputs": [],
   "source": [
    "counts['Lat'] = counts['first'].apply(lambda x: float(x[1:-1].split(', ')[1]))\n",
    "counts['Long'] = counts['first'].apply(lambda x: float(x[1:-1].split(', ')[0]))"
   ]
  },
  {
   "cell_type": "code",
   "execution_count": 169,
   "metadata": {
    "ExecuteTime": {
     "end_time": "2020-08-12T00:06:20.733355Z",
     "start_time": "2020-08-12T00:06:20.724379Z"
    }
   },
   "outputs": [],
   "source": [
    "year = 2015\n",
    "month = 12\n",
    "parameter = 'TN'"
   ]
  },
  {
   "cell_type": "code",
   "execution_count": 173,
   "metadata": {
    "ExecuteTime": {
     "end_time": "2020-08-12T00:09:09.051038Z",
     "start_time": "2020-08-12T00:09:08.791585Z"
    }
   },
   "outputs": [
    {
     "data": {
      "text/html": [
       "<div>\n",
       "<style scoped>\n",
       "    .dataframe tbody tr th:only-of-type {\n",
       "        vertical-align: middle;\n",
       "    }\n",
       "\n",
       "    .dataframe tbody tr th {\n",
       "        vertical-align: top;\n",
       "    }\n",
       "\n",
       "    .dataframe thead th {\n",
       "        text-align: right;\n",
       "    }\n",
       "</style>\n",
       "<table border=\"1\" class=\"dataframe\">\n",
       "  <thead>\n",
       "    <tr style=\"text-align: right;\">\n",
       "      <th></th>\n",
       "      <th>MeasureValue</th>\n",
       "      <th>Longitude</th>\n",
       "      <th>Latitude</th>\n",
       "    </tr>\n",
       "    <tr>\n",
       "      <th>coordinates</th>\n",
       "      <th></th>\n",
       "      <th></th>\n",
       "      <th></th>\n",
       "    </tr>\n",
       "  </thead>\n",
       "  <tbody>\n",
       "    <tr>\n",
       "      <th>(-76.02599000000002, 39.44149)</th>\n",
       "      <td>1.441550</td>\n",
       "      <td>-76.02599</td>\n",
       "      <td>39.44149</td>\n",
       "    </tr>\n",
       "    <tr>\n",
       "      <th>(-76.17579, 39.348729999999996)</th>\n",
       "      <td>1.125540</td>\n",
       "      <td>-76.17579</td>\n",
       "      <td>39.34873</td>\n",
       "    </tr>\n",
       "    <tr>\n",
       "      <th>(-76.22787, 38.13705)</th>\n",
       "      <td>0.451980</td>\n",
       "      <td>-76.22787</td>\n",
       "      <td>38.13705</td>\n",
       "    </tr>\n",
       "    <tr>\n",
       "      <th>(-76.2405, 39.2495)</th>\n",
       "      <td>0.873775</td>\n",
       "      <td>-76.24050</td>\n",
       "      <td>39.24950</td>\n",
       "    </tr>\n",
       "    <tr>\n",
       "      <th>(-76.29215, 38.3187)</th>\n",
       "      <td>0.392475</td>\n",
       "      <td>-76.29215</td>\n",
       "      <td>38.31870</td>\n",
       "    </tr>\n",
       "    <tr>\n",
       "      <th>(-76.30631, 39.16369)</th>\n",
       "      <td>0.827000</td>\n",
       "      <td>-76.30631</td>\n",
       "      <td>39.16369</td>\n",
       "    </tr>\n",
       "    <tr>\n",
       "      <th>(-76.34565, 38.41457)</th>\n",
       "      <td>0.433825</td>\n",
       "      <td>-76.34565</td>\n",
       "      <td>38.41457</td>\n",
       "    </tr>\n",
       "    <tr>\n",
       "      <th>(-76.35967, 38.99596)</th>\n",
       "      <td>0.585020</td>\n",
       "      <td>-76.35967</td>\n",
       "      <td>38.99596</td>\n",
       "    </tr>\n",
       "    <tr>\n",
       "      <th>(-76.37574000000002, 38.32522)</th>\n",
       "      <td>0.534333</td>\n",
       "      <td>-76.37574</td>\n",
       "      <td>38.32522</td>\n",
       "    </tr>\n",
       "    <tr>\n",
       "      <th>(-76.39945, 38.82593)</th>\n",
       "      <td>0.530625</td>\n",
       "      <td>-76.39945</td>\n",
       "      <td>38.82593</td>\n",
       "    </tr>\n",
       "    <tr>\n",
       "      <th>(-76.42126999999998, 38.64618)</th>\n",
       "      <td>0.488075</td>\n",
       "      <td>-76.42127</td>\n",
       "      <td>38.64618</td>\n",
       "    </tr>\n",
       "    <tr>\n",
       "      <th>(-76.42151, 38.312)</th>\n",
       "      <td>0.495150</td>\n",
       "      <td>-76.42151</td>\n",
       "      <td>38.31200</td>\n",
       "    </tr>\n",
       "    <tr>\n",
       "      <th>(-76.42794, 38.55505)</th>\n",
       "      <td>0.483775</td>\n",
       "      <td>-76.42794</td>\n",
       "      <td>38.55505</td>\n",
       "    </tr>\n",
       "  </tbody>\n",
       "</table>\n",
       "</div>"
      ],
      "text/plain": [
       "                                 MeasureValue  Longitude  Latitude\n",
       "coordinates                                                       \n",
       "(-76.02599000000002, 39.44149)       1.441550  -76.02599  39.44149\n",
       "(-76.17579, 39.348729999999996)      1.125540  -76.17579  39.34873\n",
       "(-76.22787, 38.13705)                0.451980  -76.22787  38.13705\n",
       "(-76.2405, 39.2495)                  0.873775  -76.24050  39.24950\n",
       "(-76.29215, 38.3187)                 0.392475  -76.29215  38.31870\n",
       "(-76.30631, 39.16369)                0.827000  -76.30631  39.16369\n",
       "(-76.34565, 38.41457)                0.433825  -76.34565  38.41457\n",
       "(-76.35967, 38.99596)                0.585020  -76.35967  38.99596\n",
       "(-76.37574000000002, 38.32522)       0.534333  -76.37574  38.32522\n",
       "(-76.39945, 38.82593)                0.530625  -76.39945  38.82593\n",
       "(-76.42126999999998, 38.64618)       0.488075  -76.42127  38.64618\n",
       "(-76.42151, 38.312)                  0.495150  -76.42151  38.31200\n",
       "(-76.42794, 38.55505)                0.483775  -76.42794  38.55505"
      ]
     },
     "execution_count": 173,
     "metadata": {},
     "output_type": "execute_result"
    }
   ],
   "source": [
    "param_summary = a.loc[(a['Year'] == year) & (a['Month'] == month) & (a['Parameter'] == parameter), :].groupby('coordinates')[['MeasureValue', 'Longitude', 'Latitude']].mean()"
   ]
  }
 ],
 "metadata": {
  "hide_input": false,
  "kernelspec": {
   "display_name": "Python 3",
   "language": "python",
   "name": "python3"
  },
  "language_info": {
   "codemirror_mode": {
    "name": "ipython",
    "version": 3
   },
   "file_extension": ".py",
   "mimetype": "text/x-python",
   "name": "python",
   "nbconvert_exporter": "python",
   "pygments_lexer": "ipython3",
   "version": "3.7.5"
  },
  "toc": {
   "base_numbering": 1,
   "nav_menu": {},
   "number_sections": true,
   "sideBar": true,
   "skip_h1_title": false,
   "title_cell": "Table of Contents",
   "title_sidebar": "Contents",
   "toc_cell": false,
   "toc_position": {},
   "toc_section_display": true,
   "toc_window_display": false
  },
  "varInspector": {
   "cols": {
    "lenName": 16,
    "lenType": 16,
    "lenVar": 40
   },
   "kernels_config": {
    "python": {
     "delete_cmd_postfix": "",
     "delete_cmd_prefix": "del ",
     "library": "var_list.py",
     "varRefreshCmd": "print(var_dic_list())"
    },
    "r": {
     "delete_cmd_postfix": ") ",
     "delete_cmd_prefix": "rm(",
     "library": "var_list.r",
     "varRefreshCmd": "cat(var_dic_list()) "
    }
   },
   "types_to_exclude": [
    "module",
    "function",
    "builtin_function_or_method",
    "instance",
    "_Feature"
   ],
   "window_display": false
  }
 },
 "nbformat": 4,
 "nbformat_minor": 4
}
